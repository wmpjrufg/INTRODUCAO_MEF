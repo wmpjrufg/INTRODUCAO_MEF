{
  "nbformat": 4,
  "nbformat_minor": 0,
  "metadata": {
    "colab": {
      "name": "notebook2.ipynb",
      "provenance": []
    },
    "kernelspec": {
      "name": "python3",
      "display_name": "Python 3"
    }
  },
  "cells": [
    {
      "cell_type": "code",
      "metadata": {
        "id": "9PxSMCGlHMwL"
      },
      "source": [
        "import sympy as sp\n",
        "from sympy import *\n",
        "import numpy as np"
      ],
      "execution_count": 1,
      "outputs": []
    },
    {
      "cell_type": "markdown",
      "metadata": {
        "id": "RIb6yEFhHUZ9"
      },
      "source": [
        "Experimentos realizados de forma empírica geralmente retornam dados semelhantes a pontos discretos. O problema nesse\n",
        "tipo de situação é fato de não dispor de uma expressão analítica que permita descobrir determinado valor de retorno\n",
        "para qualquer ponto arbitrário da variável em estudo. Para estas situações são utilizados recursos matemáticos que \n",
        "permitem determinar um comportamento aproximado da variação desse conjunto de dados e assim conseguir prever de forma\n",
        "satisfatória quais serão os resultados nesses pontos arbitrários. Um desses recursos, amplamente utilizado nesse tipo\n",
        "de problema é a utilização de funções interpoladoras. Essa técnica basicamente une os pontos conhecidos através de uma \n",
        "curva e essa curva passa a ser a função representativa da Lei de Variação dessa grandeza dentro desse intervalo. A \n",
        "relação para a correspondência entre as variáveis e o valor da grandeza constitui o modelo matemático.\n",
        "\n",
        "Para que as previsões do fenômeno possam ser satisfatórias é necessário que o modelo matemático seja escolhido de forma\n",
        "adequada, sendo essa escolha uma etapa fundamental para o êxito do processo.\n",
        "\n",
        "Essas técnicas de interpolação são um dos pilares do Método dos Elementos Finitos. Como neste método o ponto principal \n",
        "não é conhecimento dos infinitos pontos (pela dificuldade de determinação dessas equações) mas sim somente de uma \n",
        "quantidade dita como suficiente para descrever o comportamento da estrutura em análise, a interpolação terá a função\n",
        "de descrever o comportamento dos pontos que estão entre os nós do modelo.\n",
        "\n",
        "Neste caso, essas Funções de Interpolação devem ser associadas a uma outra condição muito importante no estudo de \n",
        "estruturas: a física do material. A deformação de um elemento está diretamente associada a carga que este recebe e sua\n",
        "rigidez.\n",
        "\n",
        "Essa condição adicional será descrita através do conceito de trabalho e energia de deformação.\n",
        "\n",
        "[Aqui talvez colocar um link de um exemplo simples de determinação da rigidez de uma mola pelo método de \n",
        "conservação de energia e mais teoria da parte física]\n",
        "\n",
        "Nesse interim, o que o método traz é que a energia externa introduzida no elemento através dos carregamentos\n",
        "é transformada em energia de deformação, a qual está associada a sua configuração deformada. Essa configuração \n",
        "deformada por sua vez está descrita pela função de interpolação. Desta forma, calculando a energia de deformação e \n",
        "igualando esta ao trabalho externo podemos determinar, em caráter aproximado, a rigidez do elemento finito.\n"
      ]
    },
    {
      "cell_type": "markdown",
      "metadata": {
        "id": "aFUiN29yHbFK"
      },
      "source": [
        "- Formulação da Função:"
      ]
    },
    {
      "cell_type": "code",
      "metadata": {
        "id": "1-QwlPhdHdtm"
      },
      "source": [
        "# Definição das variáveis\n",
        "x, n11, n12, n13, n14, u1, u2, C1, C2, C3, C4, l, M = sp.symbols('x, n11, n12, n13, n14, u1, u2, C1, C2, C3, C4, l, M')\n",
        "Desloc1, B, Curvatura, VetorDesloc = sp.symbols('v1, B, v2l, VetorDesloc')\n",
        "v1, v2, v1linha, v2linha, f1, M1, f2, M2, Delta, Coef= sp.symbols('v1, v2, v1linha, v2linha, f1, M1, f2, M2, Delta, Coef')\n",
        "dteta, dx = sp.symbols('dteta, dx')"
      ],
      "execution_count": 2,
      "outputs": []
    },
    {
      "cell_type": "code",
      "metadata": {
        "id": "fwzAjl5GHkmm"
      },
      "source": [
        "# Escolha da função interpoladora para os deslocamentos conforme seu GL\n",
        "v = C1 + C2*x + C3*x**2 + C4*x**3\n",
        "\n",
        "    # Representando a função de forma matricial\n",
        "\n",
        "hx1 = sp.linear_eq_to_matrix([v], [C1, C2, C3, C4])[0]\n",
        "hx = sp.Matrix(hx1).values()    # Matriz que contém as variáveis\n",
        "C = np.array([(C1),(C2), (C3), (C4)])   # Matriz coluna dos coeficientes desconhecidos\n",
        "\n",
        "# Função de inclinação da viga\n",
        "Inclinacao = diff(v, x)"
      ],
      "execution_count": 5,
      "outputs": []
    },
    {
      "cell_type": "markdown",
      "metadata": {
        "id": "sJtu_EkEHw7F"
      },
      "source": [
        "- Cálculo dos coeficientes relacionando os deslocamentos dentro do elemento com os deslocamentos nodais"
      ]
    },
    {
      "cell_type": "code",
      "metadata": {
        "id": "OkcVjUUaHyrZ"
      },
      "source": [
        "# Cálculo dos coeficientes desconhecidos da função interpoladora\n",
        "\n",
        "'Para x = 0 (nó 1) v = v1 e θ = v1linha'\n",
        "\n",
        "    # V1 - Deslocamento no nó 1\n",
        "Desloc1 = v.subs(x, 0)\n",
        "\n",
        "    # V1' - Inclinação no nó 1\n",
        "Inclinacao_p1 = Inclinacao.subs(x, 0)\n",
        "\n",
        "\n",
        "'Para x = L (nó 2) v = v2 e θ = v2linha'\n",
        "\n",
        "    # V2\n",
        "Desloc2 = v.subs(x, l)\n",
        "# sp.pprint(v2)\n",
        "\n",
        "    # V2'\n",
        "Inclinacao_p2 = Inclinacao.subs(x, l)\n",
        "# sp.pprint(v22)\n",
        "\n",
        "'Matricialmente temos:'\n",
        "A1 = sp.linear_eq_to_matrix([Desloc1], [C1, C2, C3, C4])\n",
        "A2 = sp.linear_eq_to_matrix([Inclinacao_p1], [C1, C2, C3, C4])\n",
        "A3 = sp.linear_eq_to_matrix([Desloc2], [C1, C2, C3, C4])\n",
        "A4 = sp.linear_eq_to_matrix([Inclinacao_p2], [C1, C2, C3, C4])\n",
        "\n",
        "A = np.array([(A1[0]), (A2[0]), (A3[0]), (A4[0])])  # Matriz geometria do elemento\n",
        "\n",
        "Ainv = sp.Matrix(A).inv()   # Inversa da matriz geometria\n",
        "\n",
        "Delta = np.dot(A, C)    # Matriz Deslocamentos nodais = Matriz Geometria do elemento x Matriz dos coeficientes\n",
        "\n",
        "'Como os deslocamentos são representados pela matriz Hx multiplicada pela Matriz de Coeficientes C:'\n",
        "\n",
        "nx = np.dot(hx, Ainv)   # Matriz Função de Forma do Elemento Finito\n",
        "\n",
        "\n",
        "expn11 = sp.Eq(n11, nx[0])\n",
        "expn12 = sp.Eq(n12, nx[1])\n",
        "expn13 = sp.Eq(n13, nx[2])\n",
        "expn14 = sp.Eq(n14, nx[3])\n",
        "\n",
        "sp.pprint(expn11)\n",
        "sp.pprint(expn12)\n",
        "sp.pprint(expn13)\n",
        "sp.pprint(expn14)\n"
      ],
      "execution_count": null,
      "outputs": []
    },
    {
      "cell_type": "code",
      "metadata": {
        "id": "QYnjtOhUInse"
      },
      "source": [
        "# Deformações internas no elemento a partir dos deslocamentos nodais\n",
        "\n",
        "'As deformações por flexão estão associadas à curvatura apresentada pela viga ao longo de seu comprimento'\n",
        "\n",
        "v2linhas = diff(Inclinacao, x)   # v2linhas = Curvatura\n",
        "\n",
        "B0 = sp.linear_eq_to_matrix([v2linhas], [C1, C2, C3, C4])[0]\n",
        "\n",
        "B = B0 * Ainv\n",
        "\n",
        "print(B)\n",
        "\n",
        "VetorDesloc = np.array([(v1), (v1linha), (v2), (v2linha)])\n",
        "\n",
        "Curvatura = B * VetorDesloc     # Representação de v2linhas na forma matricial\n",
        "\n",
        "\n",
        "VetorDeslocT = sp.Matrix(VetorDesloc).transpose()\n",
        "\n",
        "ForcNodal = np.array([(f1), (M1), (f2), (M2)])"
      ],
      "execution_count": null,
      "outputs": []
    },
    {
      "cell_type": "markdown",
      "metadata": {
        "id": "jKJ_kWZoIynE"
      },
      "source": [
        "O trabalho externo é dado pela multiplicação das forças e seus correspondentes deslocamentos juntamente com os momentos \n",
        "e seus correspondentes ângulos\n",
        "\n",
        "Nessa etapa o VetorDesloc foi transposto para que a multiplicação pudesse ser feita "
      ]
    },
    {
      "cell_type": "code",
      "metadata": {
        "id": "8vben82ZI0Lo"
      },
      "source": [
        "Trabalho_Externo = np.dot(VetorDeslocT, ForcNodal)"
      ],
      "execution_count": null,
      "outputs": []
    },
    {
      "cell_type": "markdown",
      "metadata": {
        "id": "wcZKOyyoI1gx"
      },
      "source": [
        "Para o trabalho interno levamos em consideração a deformação da viga por flexão associada à curvatura. Aliada a \n",
        "condição externa e a curvatura virtual impostas podemos contabilizar o trabalho interno decorrente da ação do momento\n",
        "fletor e o ângulo que este define em toda viga"
      ]
    },
    {
      "cell_type": "code",
      "metadata": {
        "id": "ypg51zaJI3bY"
      },
      "source": [
        "def trabalho_interno():\n",
        "    return Integral(M(dteta, 0, l))"
      ],
      "execution_count": null,
      "outputs": []
    },
    {
      "cell_type": "markdown",
      "metadata": {
        "id": "PGY1G8QkI8Vb"
      },
      "source": [
        "Da teoria de vigas substituímos o dteta da integral"
      ]
    },
    {
      "cell_type": "code",
      "metadata": {
        "id": "tmJJHPooI9Tn"
      },
      "source": [
        "Tinterno = Integral(sp.Matrix(Curvatura).transpose()*M, (x, 0, l))"
      ],
      "execution_count": null,
      "outputs": []
    },
    {
      "cell_type": "markdown",
      "metadata": {
        "id": "z7pR4CEoJEZ-"
      },
      "source": [
        "... Continua"
      ]
    }
  ]
}